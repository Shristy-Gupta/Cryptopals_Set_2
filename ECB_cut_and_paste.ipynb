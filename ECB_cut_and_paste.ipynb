{
  "nbformat": 4,
  "nbformat_minor": 0,
  "metadata": {
    "colab": {
      "name": "ECB cut-and-paste.ipynb",
      "provenance": [],
      "collapsed_sections": []
    },
    "kernelspec": {
      "name": "python3",
      "display_name": "Python 3"
    },
    "language_info": {
      "name": "python"
    }
  },
  "cells": [
    {
      "cell_type": "code",
      "metadata": {
        "colab": {
          "base_uri": "https://localhost:8080/"
        },
        "id": "DB2aqfeZl80C",
        "outputId": "15e9cfab-5888-4f99-91b6-59c6ac41ac26"
      },
      "source": [
        "#ECB cut-and-paste\n",
        "#importing classes\n",
        "import random\n",
        "from random import randint\n",
        "import os\n",
        "import string\n",
        "# The below file is given by OPEN SSL\n",
        "!pip install pycrypto\n",
        "from Crypto.Cipher import AES\n",
        "from math import ceil\n",
        "from binascii import unhexlify, b2a_base64, a2b_base64, hexlify\n",
        "import chardet"
      ],
      "execution_count": null,
      "outputs": [
        {
          "output_type": "stream",
          "text": [
            "Collecting pycrypto\n",
            "\u001b[?25l  Downloading https://files.pythonhosted.org/packages/60/db/645aa9af249f059cc3a368b118de33889219e0362141e75d4eaf6f80f163/pycrypto-2.6.1.tar.gz (446kB)\n",
            "\r\u001b[K     |▊                               | 10kB 15.6MB/s eta 0:00:01\r\u001b[K     |█▌                              | 20kB 15.5MB/s eta 0:00:01\r\u001b[K     |██▏                             | 30kB 9.2MB/s eta 0:00:01\r\u001b[K     |███                             | 40kB 7.9MB/s eta 0:00:01\r\u001b[K     |███▊                            | 51kB 4.4MB/s eta 0:00:01\r\u001b[K     |████▍                           | 61kB 4.9MB/s eta 0:00:01\r\u001b[K     |█████▏                          | 71kB 5.1MB/s eta 0:00:01\r\u001b[K     |█████▉                          | 81kB 5.3MB/s eta 0:00:01\r\u001b[K     |██████▋                         | 92kB 5.2MB/s eta 0:00:01\r\u001b[K     |███████▍                        | 102kB 5.7MB/s eta 0:00:01\r\u001b[K     |████████                        | 112kB 5.7MB/s eta 0:00:01\r\u001b[K     |████████▉                       | 122kB 5.7MB/s eta 0:00:01\r\u001b[K     |█████████▌                      | 133kB 5.7MB/s eta 0:00:01\r\u001b[K     |██████████▎                     | 143kB 5.7MB/s eta 0:00:01\r\u001b[K     |███████████                     | 153kB 5.7MB/s eta 0:00:01\r\u001b[K     |███████████▊                    | 163kB 5.7MB/s eta 0:00:01\r\u001b[K     |████████████▌                   | 174kB 5.7MB/s eta 0:00:01\r\u001b[K     |█████████████▏                  | 184kB 5.7MB/s eta 0:00:01\r\u001b[K     |██████████████                  | 194kB 5.7MB/s eta 0:00:01\r\u001b[K     |██████████████▊                 | 204kB 5.7MB/s eta 0:00:01\r\u001b[K     |███████████████▍                | 215kB 5.7MB/s eta 0:00:01\r\u001b[K     |████████████████▏               | 225kB 5.7MB/s eta 0:00:01\r\u001b[K     |█████████████████               | 235kB 5.7MB/s eta 0:00:01\r\u001b[K     |█████████████████▋              | 245kB 5.7MB/s eta 0:00:01\r\u001b[K     |██████████████████▍             | 256kB 5.7MB/s eta 0:00:01\r\u001b[K     |███████████████████             | 266kB 5.7MB/s eta 0:00:01\r\u001b[K     |███████████████████▉            | 276kB 5.7MB/s eta 0:00:01\r\u001b[K     |████████████████████▋           | 286kB 5.7MB/s eta 0:00:01\r\u001b[K     |█████████████████████▎          | 296kB 5.7MB/s eta 0:00:01\r\u001b[K     |██████████████████████          | 307kB 5.7MB/s eta 0:00:01\r\u001b[K     |██████████████████████▊         | 317kB 5.7MB/s eta 0:00:01\r\u001b[K     |███████████████████████▌        | 327kB 5.7MB/s eta 0:00:01\r\u001b[K     |████████████████████████▎       | 337kB 5.7MB/s eta 0:00:01\r\u001b[K     |█████████████████████████       | 348kB 5.7MB/s eta 0:00:01\r\u001b[K     |█████████████████████████▊      | 358kB 5.7MB/s eta 0:00:01\r\u001b[K     |██████████████████████████▍     | 368kB 5.7MB/s eta 0:00:01\r\u001b[K     |███████████████████████████▏    | 378kB 5.7MB/s eta 0:00:01\r\u001b[K     |████████████████████████████    | 389kB 5.7MB/s eta 0:00:01\r\u001b[K     |████████████████████████████▋   | 399kB 5.7MB/s eta 0:00:01\r\u001b[K     |█████████████████████████████▍  | 409kB 5.7MB/s eta 0:00:01\r\u001b[K     |██████████████████████████████  | 419kB 5.7MB/s eta 0:00:01\r\u001b[K     |██████████████████████████████▉ | 430kB 5.7MB/s eta 0:00:01\r\u001b[K     |███████████████████████████████▋| 440kB 5.7MB/s eta 0:00:01\r\u001b[K     |████████████████████████████████| 450kB 5.7MB/s \n",
            "\u001b[?25hBuilding wheels for collected packages: pycrypto\n",
            "  Building wheel for pycrypto (setup.py) ... \u001b[?25l\u001b[?25hdone\n",
            "  Created wheel for pycrypto: filename=pycrypto-2.6.1-cp37-cp37m-linux_x86_64.whl size=499931 sha256=a6d73f73107313f99f5e63f208e4a80847a4da4b7399cc6cabd3919721fb4c32\n",
            "  Stored in directory: /root/.cache/pip/wheels/27/02/5e/77a69d0c16bb63c6ed32f5386f33a2809c94bd5414a2f6c196\n",
            "Successfully built pycrypto\n",
            "Installing collected packages: pycrypto\n",
            "Successfully installed pycrypto-2.6.1\n"
          ],
          "name": "stdout"
        }
      ]
    },
    {
      "cell_type": "code",
      "metadata": {
        "id": "EB9rU6Js2WoM"
      },
      "source": [
        "def pkcs7(message, blocksize):\n",
        "  padlen = blocksize-len(message)%blocksize\n",
        "  if(padlen == blocksize):\n",
        "    padlen = 0\n",
        "  pkcsmessage=bytes([padlen])*padlen\n",
        "  return message+pkcsmessage"
      ],
      "execution_count": null,
      "outputs": []
    },
    {
      "cell_type": "code",
      "metadata": {
        "id": "g-nJ7C732ezK"
      },
      "source": [
        "def random_byte_create(lenofbytes):\n",
        "  randomnumber=[]\n",
        "  for i in range(lenofbytes):\n",
        "    randomnumber.append(random.randint(0,255))\n",
        "  return bytes(randomnumber)"
      ],
      "execution_count": null,
      "outputs": []
    },
    {
      "cell_type": "code",
      "metadata": {
        "id": "5beTBhXs2hAV"
      },
      "source": [
        "Key_global=random_byte_create(16)"
      ],
      "execution_count": null,
      "outputs": []
    },
    {
      "cell_type": "code",
      "metadata": {
        "id": "3BJLjUFO5cXs"
      },
      "source": [
        "def bytes_to_string(message):\n",
        "    return \"\".join(filter(lambda x: x in string.printable, \"\".join(map(chr, message))))\n",
        "    \n",
        "#####~~~~~~~~~~~~~~~~~~~~  END OF HELPER FUNCTION ~~~~~~~~~~~~~~~~~~~~~~"
      ],
      "execution_count": null,
      "outputs": []
    },
    {
      "cell_type": "code",
      "metadata": {
        "id": "c__C0ss6mXgo"
      },
      "source": [
        "def parse_cookie_encoding(plaintext):\n",
        "  #This function takes string input and returns the JSON counterpart\n",
        "  # split & and = and generate {foo: 'bar',baz: 'qux',zap: 'zazzle'}\n",
        "  split_plaintext=plaintext.split(\"&\")\n",
        "  parsed_message={}\n",
        "  for word in split_plaintext:\n",
        "    key=word.split(\"=\")[0].strip()\n",
        "    value=word.split(\"=\")[1].strip()\n",
        "    parsed_message[key]=value\n",
        "  return parsed_message\n"
      ],
      "execution_count": null,
      "outputs": []
    },
    {
      "cell_type": "code",
      "metadata": {
        "id": "i0bylOevsrB_"
      },
      "source": [
        "def parse_cookie_decoding(encodedtext):\n",
        "  #This function takes JSON as input and returns the cookie\n",
        "  # Eg: foo=bar&baz=qux&zap=zazzle\n",
        "  parsed_message=[]\n",
        "  for word in [\"email\", \"uid\", \"role\"]:\n",
        "    text=\"=\".join([word, encodedtext[word]])\n",
        "    parsed_message.append(text)\n",
        "  return \"&\".join(parsed_message)\n"
      ],
      "execution_count": null,
      "outputs": []
    },
    {
      "cell_type": "code",
      "metadata": {
        "id": "3rlCFiRywwwB"
      },
      "source": [
        "def profile_for(email_id):\n",
        "  #Now write a function that encodes a user profile in that format, given an email address.\n",
        "  #Your \"profile_for\" function should not allow encoding metacharacters (& and =)\n",
        "  # Invalid \"foo@bar.com&role=admin\".\n",
        "  # Therefore I replace them :)\n",
        "  return parse_cookie_decoding({\n",
        "      \"email\":email_id.replace(\"&\",\"\").replace(\"=\",\"\"),\n",
        "      \"uid\": \"10\",\n",
        "      \"role\": \"user\"\n",
        "  })"
      ],
      "execution_count": null,
      "outputs": []
    },
    {
      "cell_type": "code",
      "metadata": {
        "id": "DuaUWukV2GHo"
      },
      "source": [
        "def encypt_profile_for(user_profile):\n",
        "  # Encypt AES \n",
        "  #ECB Encryption\n",
        "  plaintext=pkcs7(user_profile,16)\n",
        "  cipher_object=AES.new(Key_global,AES.MODE_ECB)\n",
        "  return cipher_object.encrypt(plaintext)\n",
        "\n",
        "def decypt_profile_for(cookied_profile):\n",
        " # AES decryption\n",
        "  cipher_object=AES.new(Key_global,AES.MODE_ECB)\n",
        "  plaintext=cipher_object.decrypt(cookied_profile)\n",
        "  return parse_cookie_encoding(bytes_to_string(plaintext))\n"
      ],
      "execution_count": null,
      "outputs": []
    },
    {
      "cell_type": "code",
      "metadata": {
        "id": "8bbQ2tgVDTXQ"
      },
      "source": [
        "def ecb_cut_and_paste_attacker(block_size=16):\n",
        "  # Here the ciphertext should themselves generate admin profile\n",
        "  # Here the attacker should be able to make the role as admin\n",
        "  #Getting the number of blocks required fore keys like uid, email and role \n",
        "  email_user=\"shris@bar.com\"\n",
        "  #First generate the profile user as convention\n",
        "  profile_user=profile_for(email_user)\n",
        "  print(\"The following message attacker gets from profile for request\")\n",
        "  print(parse_cookie_encoding(profile_user))\n",
        "  #Encypt the profile user\n",
        "  encrypted_profile_user=encypt_profile_for(profile_user.encode('utf-8'))\n",
        "  #Encypt the role--\"Admin\"\n",
        "  encypt_admin_only=encypt_profile_for((\"admin\").encode('utf-8'))\n",
        "  #The issue is we need a replacement for two bytes \"us\" therefore I will add 2 more word in email\n",
        "  # Remove the last block and add admin only block \n",
        "  print(\"The following message attacker gets after modifying the encyption block __ FINAL ANS__\")\n",
        "  return encrypted_profile_user[:-16]+encypt_admin_only\n"
      ],
      "execution_count": null,
      "outputs": []
    },
    {
      "cell_type": "code",
      "metadata": {
        "colab": {
          "base_uri": "https://localhost:8080/"
        },
        "id": "P6uPxBMl4hMv",
        "outputId": "2f5337aa-da91-4c60-f4ce-c051dfa427ae"
      },
      "source": [
        "if __name__== \"__main__\":\n",
        "  print(decypt_profile_for(ecb_cut_and_paste_attacker()))\n",
        "\n",
        " "
      ],
      "execution_count": null,
      "outputs": [
        {
          "output_type": "stream",
          "text": [
            "The following message attacker gets from profile for request\n",
            "{'email': 'shris@bar.com', 'uid': '10', 'role': 'user'}\n",
            "The following message attacker gets after modifying the encyption block __ FINAL ANS__\n",
            "{'email': 'shris@bar.com', 'uid': '10', 'role': 'admin'}\n"
          ],
          "name": "stdout"
        }
      ]
    }
  ]
}