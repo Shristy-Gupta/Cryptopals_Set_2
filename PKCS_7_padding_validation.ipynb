{
  "nbformat": 4,
  "nbformat_minor": 0,
  "metadata": {
    "colab": {
      "name": "PKCS#7 padding validation.ipynb",
      "provenance": []
    },
    "kernelspec": {
      "name": "python3",
      "display_name": "Python 3"
    },
    "language_info": {
      "name": "python"
    }
  },
  "cells": [
    {
      "cell_type": "code",
      "metadata": {
        "colab": {
          "base_uri": "https://localhost:8080/"
        },
        "id": "mHw_ANKhUSh7",
        "outputId": "fb63f803-b7f5-41ee-d6b1-19055740128c"
      },
      "source": [
        "#PKCS#7 padding validation\n",
        "import random\n",
        "from random import randint\n",
        "import os\n",
        "import string\n",
        "# The below file is given by OPEN SSL\n",
        "!pip install pycrypto\n",
        "from Crypto.Cipher import AES\n",
        "from math import ceil\n",
        "from binascii import unhexlify, b2a_base64, a2b_base64, hexlify\n",
        "import chardet"
      ],
      "execution_count": null,
      "outputs": [
        {
          "output_type": "stream",
          "text": [
            "Collecting pycrypto\n",
            "\u001b[?25l  Downloading https://files.pythonhosted.org/packages/60/db/645aa9af249f059cc3a368b118de33889219e0362141e75d4eaf6f80f163/pycrypto-2.6.1.tar.gz (446kB)\n",
            "\u001b[K     |████████████████████████████████| 450kB 5.8MB/s \n",
            "\u001b[?25hBuilding wheels for collected packages: pycrypto\n",
            "  Building wheel for pycrypto (setup.py) ... \u001b[?25l\u001b[?25hdone\n",
            "  Created wheel for pycrypto: filename=pycrypto-2.6.1-cp37-cp37m-linux_x86_64.whl size=499931 sha256=57701c3dd6f81d985dc66dbe0ebb6067a116a2a66d0b9cb7abe41f6b2f8f3314\n",
            "  Stored in directory: /root/.cache/pip/wheels/27/02/5e/77a69d0c16bb63c6ed32f5386f33a2809c94bd5414a2f6c196\n",
            "Successfully built pycrypto\n",
            "Installing collected packages: pycrypto\n",
            "Successfully installed pycrypto-2.6.1\n"
          ],
          "name": "stdout"
        }
      ]
    },
    {
      "cell_type": "code",
      "metadata": {
        "id": "nRhHY3MmlYbh"
      },
      "source": [
        "#Validate the padding\n",
        "def PKCS_7_padding_validation(padded_message):\n",
        "  #text=bytes(padded_message,'utf-8')\n",
        "  #Last byte gives number of blocks padded\n",
        "  last_byte=padded_message[-1]\n",
        "  if last_byte>len(padded_message):\n",
        "    return ValueError('Padding is Invalid')\n",
        "  for x in range(last_byte,0,-1):\n",
        "    if padded_message[-x]!=last_byte:\n",
        "      # This simply goes last padded bytes before and checks\n",
        "      return ValueError('Padding is Invalid')\n",
        "  return padded_message[:-last_byte]\n",
        "\n",
        "\n"
      ],
      "execution_count": null,
      "outputs": []
    },
    {
      "cell_type": "code",
      "metadata": {
        "colab": {
          "base_uri": "https://localhost:8080/"
        },
        "id": "6XDjh9JhoUBe",
        "outputId": "4d9b9e87-450a-419d-c25a-2156686b6295"
      },
      "source": [
        "if __name__== \"__main__\":\n",
        "  test_byte_string=b'ICE ICE BABY\\x04\\x04\\x04\\x04'\n",
        "  print(PKCS_7_padding_validation(test_byte_string))\n",
        "  test_byte_string=b'ICE ICE BABY\\x05\\x05\\x05\\x05'\n",
        "  print(PKCS_7_padding_validation(test_byte_string))\n",
        "  test_byte_string=b'ICE ICE BABY\\x01\\x02\\x03\\x04'\n",
        "  print(PKCS_7_padding_validation(test_byte_string))\n"
      ],
      "execution_count": null,
      "outputs": [
        {
          "output_type": "stream",
          "text": [
            "b'ICE ICE BABY'\n",
            "Padding is Invalid\n",
            "Padding is Invalid\n"
          ],
          "name": "stdout"
        }
      ]
    }
  ]
}