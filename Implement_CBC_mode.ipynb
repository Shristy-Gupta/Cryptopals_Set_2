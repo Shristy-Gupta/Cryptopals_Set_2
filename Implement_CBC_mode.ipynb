{
  "nbformat": 4,
  "nbformat_minor": 0,
  "metadata": {
    "colab": {
      "name": "Implement CBC mode.ipynb",
      "provenance": [],
      "collapsed_sections": []
    },
    "kernelspec": {
      "name": "python3",
      "display_name": "Python 3"
    },
    "language_info": {
      "name": "python"
    }
  },
  "cells": [
    {
      "cell_type": "code",
      "metadata": {
        "colab": {
          "base_uri": "https://localhost:8080/"
        },
        "id": "M7_r0tubrKZo",
        "outputId": "9d9735cd-df47-497d-941e-1923823e7626"
      },
      "source": [
        "#Implement CBC mode\n",
        "#importing classes\n",
        "import random\n",
        "from random import randint\n",
        "import os\n",
        "import string\n",
        "# The below file is given by OPEN SSL\n",
        "!pip install pycrypto\n",
        "from Crypto.Cipher import AES\n",
        "from math import ceil\n",
        "from google.colab import files\n",
        "from binascii import unhexlify, b2a_base64, a2b_base64, hexlify\n",
        "import chardet\n",
        "import io\n"
      ],
      "execution_count": null,
      "outputs": [
        {
          "output_type": "stream",
          "text": [
            "Collecting pycrypto\n",
            "\u001b[?25l  Downloading https://files.pythonhosted.org/packages/60/db/645aa9af249f059cc3a368b118de33889219e0362141e75d4eaf6f80f163/pycrypto-2.6.1.tar.gz (446kB)\n",
            "\r\u001b[K     |▊                               | 10kB 11.9MB/s eta 0:00:01\r\u001b[K     |█▌                              | 20kB 17.3MB/s eta 0:00:01\r\u001b[K     |██▏                             | 30kB 12.0MB/s eta 0:00:01\r\u001b[K     |███                             | 40kB 8.0MB/s eta 0:00:01\r\u001b[K     |███▊                            | 51kB 5.1MB/s eta 0:00:01\r\u001b[K     |████▍                           | 61kB 5.5MB/s eta 0:00:01\r\u001b[K     |█████▏                          | 71kB 5.7MB/s eta 0:00:01\r\u001b[K     |█████▉                          | 81kB 6.1MB/s eta 0:00:01\r\u001b[K     |██████▋                         | 92kB 6.4MB/s eta 0:00:01\r\u001b[K     |███████▍                        | 102kB 6.2MB/s eta 0:00:01\r\u001b[K     |████████                        | 112kB 6.2MB/s eta 0:00:01\r\u001b[K     |████████▉                       | 122kB 6.2MB/s eta 0:00:01\r\u001b[K     |█████████▌                      | 133kB 6.2MB/s eta 0:00:01\r\u001b[K     |██████████▎                     | 143kB 6.2MB/s eta 0:00:01\r\u001b[K     |███████████                     | 153kB 6.2MB/s eta 0:00:01\r\u001b[K     |███████████▊                    | 163kB 6.2MB/s eta 0:00:01\r\u001b[K     |████████████▌                   | 174kB 6.2MB/s eta 0:00:01\r\u001b[K     |█████████████▏                  | 184kB 6.2MB/s eta 0:00:01\r\u001b[K     |██████████████                  | 194kB 6.2MB/s eta 0:00:01\r\u001b[K     |██████████████▊                 | 204kB 6.2MB/s eta 0:00:01\r\u001b[K     |███████████████▍                | 215kB 6.2MB/s eta 0:00:01\r\u001b[K     |████████████████▏               | 225kB 6.2MB/s eta 0:00:01\r\u001b[K     |█████████████████               | 235kB 6.2MB/s eta 0:00:01\r\u001b[K     |█████████████████▋              | 245kB 6.2MB/s eta 0:00:01\r\u001b[K     |██████████████████▍             | 256kB 6.2MB/s eta 0:00:01\r\u001b[K     |███████████████████             | 266kB 6.2MB/s eta 0:00:01\r\u001b[K     |███████████████████▉            | 276kB 6.2MB/s eta 0:00:01\r\u001b[K     |████████████████████▋           | 286kB 6.2MB/s eta 0:00:01\r\u001b[K     |█████████████████████▎          | 296kB 6.2MB/s eta 0:00:01\r\u001b[K     |██████████████████████          | 307kB 6.2MB/s eta 0:00:01\r\u001b[K     |██████████████████████▊         | 317kB 6.2MB/s eta 0:00:01\r\u001b[K     |███████████████████████▌        | 327kB 6.2MB/s eta 0:00:01\r\u001b[K     |████████████████████████▎       | 337kB 6.2MB/s eta 0:00:01\r\u001b[K     |█████████████████████████       | 348kB 6.2MB/s eta 0:00:01\r\u001b[K     |█████████████████████████▊      | 358kB 6.2MB/s eta 0:00:01\r\u001b[K     |██████████████████████████▍     | 368kB 6.2MB/s eta 0:00:01\r\u001b[K     |███████████████████████████▏    | 378kB 6.2MB/s eta 0:00:01\r\u001b[K     |████████████████████████████    | 389kB 6.2MB/s eta 0:00:01\r\u001b[K     |████████████████████████████▋   | 399kB 6.2MB/s eta 0:00:01\r\u001b[K     |█████████████████████████████▍  | 409kB 6.2MB/s eta 0:00:01\r\u001b[K     |██████████████████████████████  | 419kB 6.2MB/s eta 0:00:01\r\u001b[K     |██████████████████████████████▉ | 430kB 6.2MB/s eta 0:00:01\r\u001b[K     |███████████████████████████████▋| 440kB 6.2MB/s eta 0:00:01\r\u001b[K     |████████████████████████████████| 450kB 6.2MB/s \n",
            "\u001b[?25hBuilding wheels for collected packages: pycrypto\n",
            "  Building wheel for pycrypto (setup.py) ... \u001b[?25l\u001b[?25hdone\n",
            "  Created wheel for pycrypto: filename=pycrypto-2.6.1-cp37-cp37m-linux_x86_64.whl size=499931 sha256=8be49cf66d85c3d69e160f5db5ae39a3f98044e36e20e31712808e559a57f924\n",
            "  Stored in directory: /root/.cache/pip/wheels/27/02/5e/77a69d0c16bb63c6ed32f5386f33a2809c94bd5414a2f6c196\n",
            "Successfully built pycrypto\n",
            "Installing collected packages: pycrypto\n",
            "Successfully installed pycrypto-2.6.1\n"
          ],
          "name": "stdout"
        }
      ]
    },
    {
      "cell_type": "code",
      "metadata": {
        "colab": {
          "resources": {
            "http://localhost:8080/nbextensions/google.colab/files.js": {
              "data": "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",
              "ok": true,
              "headers": [
                [
                  "content-type",
                  "application/javascript"
                ]
              ],
              "status": 200,
              "status_text": ""
            }
          },
          "base_uri": "https://localhost:8080/",
          "height": 73
        },
        "id": "cU6x2RtUgDld",
        "outputId": "09b6fe3e-1740-4635-810e-4ed2ec89dd4b"
      },
      "source": [
        "uploadedmessage = files.upload()"
      ],
      "execution_count": null,
      "outputs": [
        {
          "output_type": "display_data",
          "data": {
            "text/html": [
              "\n",
              "     <input type=\"file\" id=\"files-da0f18c5-bab5-4cea-af59-b22f1e92c217\" name=\"files[]\" multiple disabled\n",
              "        style=\"border:none\" />\n",
              "     <output id=\"result-da0f18c5-bab5-4cea-af59-b22f1e92c217\">\n",
              "      Upload widget is only available when the cell has been executed in the\n",
              "      current browser session. Please rerun this cell to enable.\n",
              "      </output>\n",
              "      <script src=\"/nbextensions/google.colab/files.js\"></script> "
            ],
            "text/plain": [
              "<IPython.core.display.HTML object>"
            ]
          },
          "metadata": {
            "tags": []
          }
        },
        {
          "output_type": "stream",
          "text": [
            "Saving data.txt to data.txt\n"
          ],
          "name": "stdout"
        }
      ]
    },
    {
      "cell_type": "markdown",
      "metadata": {
        "id": "-XatqZNu7JGB"
      },
      "source": [
        "#Steps are\n",
        "# 1) Padding of bits make it multiple of block size (used same function pkc7)\n",
        "# 2) Xor the message with the IV\n",
        "# 3) Use AES encyption to encrypt\n",
        "# 4) For all the blocks  of message repeat steps from 2-4 except now use cipher text irrespective of IV"
      ]
    },
    {
      "cell_type": "code",
      "metadata": {
        "id": "NAI6hgrdsAVT"
      },
      "source": [
        "def pkcs7(message, blocksize):\n",
        "  padlen = blocksize-len(message)%blocksize\n",
        "  if(padlen == blocksize):\n",
        "    padlen = 0\n",
        "  pkcsmessage=bytes([padlen])*padlen\n",
        "  return message+pkcsmessage"
      ],
      "execution_count": null,
      "outputs": []
    },
    {
      "cell_type": "code",
      "metadata": {
        "id": "9UBvw-a87A3R"
      },
      "source": [
        "# Helper classes\n",
        "# ECB AES-128 encyption\n",
        "def aes_128_enc(message,key):\n",
        "  ciphertext=AES.new(key,AES.MODE_ECB)\n",
        "  return ciphertext.encrypt(message)\n",
        "\n",
        "# ECB AES-128 decyption\n",
        "def aes_128_dec(ciphertext,key):\n",
        "  plaintext=AES.new(key,AES.MODE_ECB)\n",
        "  return plaintext.decrypt(ciphertext)\n",
        "\n",
        "# Xor of blocks of plain text and cipher text\n",
        "def xor_cipher_plaintext(plaintext,ciphertext):\n",
        "  xored=[]\n",
        "  for p,c in zip(plaintext,ciphertext):\n",
        "    xored.append(p^c)\n",
        "  return bytes(xored)\n",
        "\n",
        "#convert Bytes to string \n",
        "def bytes_to_str(bytemessage):\n",
        "  return \"\".join(filter(lambda x: x in string.printable, \"\".join(map(chr, bytemessage))))\n",
        "\n",
        "\n",
        "\n"
      ],
      "execution_count": null,
      "outputs": []
    },
    {
      "cell_type": "code",
      "metadata": {
        "id": "ELUGtfsdGNoO"
      },
      "source": [
        "def implement_CBC_ENCRYPTION(message,key):\n",
        "  #Get blocks of messages\n",
        "  byte_message=bytes(message,'utf-8')\n",
        "  IV=b'\\x00'*16\n",
        "  next_ciphertext=IV\n",
        "  ciphertext=b''\n",
        "  blocksize=16\n",
        "  for blocks in range(0,len(byte_message),16):\n",
        "    #XOR the plaintext and cipher text\n",
        "    paddedmessage=pkcs7(byte_message[blocks:blocks+16],len(key))\n",
        "    xor_value=xor_cipher_plaintext(paddedmessage,next_ciphertext)\n",
        "    next_ciphertext=aes_128_enc(xor_value,key)\n",
        "    ciphertext+=next_ciphertext\n",
        "  return ciphertext\n"
      ],
      "execution_count": null,
      "outputs": []
    },
    {
      "cell_type": "code",
      "metadata": {
        "id": "xHVUpBAvYoFg"
      },
      "source": [
        "def implement_CBC_DECRYPTION(ciphertext,key):\n",
        "  #Get blocks of messages\n",
        "  byte_message=ciphertext\n",
        "  IV=b'\\x00'*16\n",
        "  next_plaintext=IV\n",
        "  plaintext=b''\n",
        "  blocksize=16\n",
        "  for blocks in range(0,len(byte_message),len(key)):\n",
        "    #XOR the plaintext and cipher text\n",
        "    paddedmessage=pkcs7(byte_message[blocks:blocks+len(key)],len(key))\n",
        "    paddedmessage=aes_128_dec(paddedmessage,key)\n",
        "    xor_value=xor_cipher_plaintext(paddedmessage,next_plaintext)\n",
        "    plaintext+=xor_value\n",
        "    next_plaintext=byte_message[blocks:blocks+len(key)]\n",
        "  return plaintext"
      ],
      "execution_count": null,
      "outputs": []
    },
    {
      "cell_type": "code",
      "metadata": {
        "colab": {
          "base_uri": "https://localhost:8080/"
        },
        "id": "-CzuclzNuHyR",
        "outputId": "2ea32fa5-5fd9-445e-cbab-a4b9314c2cca"
      },
      "source": [
        "if __name__== \"__main__\":\n",
        "  text=\"\"\n",
        "  for key in uploadedmessage:\n",
        "    text=uploadedmessage[key]\n",
        "    break\n",
        "  text=io.BytesIO(text)\n",
        "  byte_string = b''.join(a2b_base64(line.strip()) for line in text.readlines())\n",
        "  decryptedmessage=implement_CBC_DECRYPTION(byte_string, b'YELLOW SUBMARINE')\n",
        "  decryptedmessage=bytes_to_str(decryptedmessage)\n",
        "  for line in decryptedmessage.split(\"\\n\")[:10]:\n",
        "    print(line)\n"
      ],
      "execution_count": null,
      "outputs": [
        {
          "output_type": "stream",
          "text": [
            "I'm back and I'm ringin' the bell \n",
            "A rockin' on the mike while the fly girls yell \n",
            "In ecstasy in the back of me \n",
            "Well that's my DJ Deshay cuttin' all them Z's \n",
            "Hittin' hard and the girlies goin' crazy \n",
            "Vanilla's on the mike, man I'm not lazy. \n",
            "\n",
            "I'm lettin' my drug kick in \n",
            "It controls my mouth and I begin \n",
            "To just let it flow, let my concepts go \n"
          ],
          "name": "stdout"
        }
      ]
    }
  ]
}