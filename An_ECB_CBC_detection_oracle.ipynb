{
  "nbformat": 4,
  "nbformat_minor": 0,
  "metadata": {
    "colab": {
      "name": " An ECB/CBC detection oracle.ipynb",
      "provenance": [],
      "collapsed_sections": []
    },
    "kernelspec": {
      "name": "python3",
      "display_name": "Python 3"
    },
    "language_info": {
      "name": "python"
    }
  },
  "cells": [
    {
      "cell_type": "code",
      "metadata": {
        "colab": {
          "base_uri": "https://localhost:8080/"
        },
        "id": "G_Tw-jna27Ls",
        "outputId": "ce9f1f7d-9db9-4c3d-f443-564f3bfa5762"
      },
      "source": [
        "#An ECB/CBC detection oracle\n",
        "#importing classes\n",
        "import random\n",
        "from random import randint\n",
        "import os\n",
        "import string\n",
        "# The below file is given by OPEN SSL\n",
        "!pip install pycrypto\n",
        "from Crypto.Cipher import AES\n",
        "from math import ceil\n",
        "from binascii import unhexlify, b2a_base64, a2b_base64, hexlify\n",
        "import chardet"
      ],
      "execution_count": null,
      "outputs": [
        {
          "output_type": "stream",
          "text": [
            "Requirement already satisfied: pycrypto in /usr/local/lib/python3.7/dist-packages (2.6.1)\n"
          ],
          "name": "stdout"
        }
      ]
    },
    {
      "cell_type": "code",
      "metadata": {
        "id": "RxV_ddqo5aFZ"
      },
      "source": [
        "#intialization\n",
        "ECB_MODE=1\n",
        "CBC_MODE=0\n",
        "Block_size=16"
      ],
      "execution_count": null,
      "outputs": []
    },
    {
      "cell_type": "code",
      "metadata": {
        "id": "Z4-vQGQ25oCE"
      },
      "source": [
        "def random_byte_create(lenofbytes):\n",
        "  randomnumber=[]\n",
        "  for i in range(lenofbytes):\n",
        "    randomnumber.append(random.randint(0,255))\n",
        "  return bytes(randomnumber)\n"
      ],
      "execution_count": null,
      "outputs": []
    },
    {
      "cell_type": "code",
      "metadata": {
        "id": "poXDd3fx-KSQ"
      },
      "source": [
        "def encrypt_oracle(message):\n",
        "  #returns byte of encypted message\n",
        "  appendbefore=random_byte_create(random.randint(5,10))\n",
        "  appendafter=random_byte_create(random.randint(5,10))\n",
        "  #Generating block of size 16\n",
        "  plaintext=pkcs7(appendbefore+message+appendafter,Block_size)\n",
        "  key=random_byte_create(Block_size)\n",
        "  type_of_encyption=random.randint(0,1)\n",
        "  if type_of_encyption==ECB_MODE:\n",
        "    #Encypt ECB\n",
        "    cipher_object=AES.new(key,AES.MODE_ECB)\n",
        "    return cipher_object.encrypt(plaintext),ECB_MODE\n",
        "\n",
        "  elif type_of_encyption==CBC_MODE:\n",
        "    #Encypt CBC\n",
        "    IV=random_byte_create(Block_size)\n",
        "    cipher_object=AES.new(key,AES.MODE_CBC,IV)\n",
        "    return cipher_object.encrypt(plaintext),CBC_MODE\n"
      ],
      "execution_count": null,
      "outputs": []
    },
    {
      "cell_type": "code",
      "metadata": {
        "id": "elXprj0lE8A8"
      },
      "source": [
        "#Detect the Encryption mechanism of the block\n",
        "def guess_aes_ecb(ciphertext):\n",
        "  #The logic is simple, In ECB the block content will be same , becuase for same message the cipher text will be same and not randomized\n",
        "  #This formula only fails when messages are all unique\n",
        "  blocks_of_ciphertext=[]\n",
        "  number_of_blocks=len(ciphertext)//Block_size\n",
        "  for i in range(number_of_blocks):\n",
        "    blocks_of_ciphertext.append(ciphertext[i:i+Block_size])\n",
        "  unique_num_blocks=set(blocks_of_ciphertext)\n",
        "  #Returns True for ECB otherwise false\n",
        "  return len(unique_num_blocks)<len(ciphertext)\n"
      ],
      "execution_count": null,
      "outputs": []
    },
    {
      "cell_type": "code",
      "metadata": {
        "id": "PYGhwI43IN_g"
      },
      "source": [
        "def decrypt_oracle():\n",
        "  #decided a random plain text\n",
        "  plaintext=\"Shristy\"*(Block_size)\n",
        "  plaintext=bytes(plaintext,'utf-8')\n",
        "  ciphertext,mode=encrypt_oracle(plaintext)\n",
        "  if guess_aes_ecb(ciphertext):\n",
        "    return mode == ECB_MODE\n",
        "  else:\n",
        "    return mode == CBC_MODE\n"
      ],
      "execution_count": null,
      "outputs": []
    },
    {
      "cell_type": "code",
      "metadata": {
        "colab": {
          "base_uri": "https://localhost:8080/"
        },
        "id": "_tav46WeKw6R",
        "outputId": "954ffb2a-0b82-47c6-de47-b3bd54188716"
      },
      "source": [
        "#Testing the algorithm\n",
        "if __name__== \"__main__\":\n",
        "  rightans=0\n",
        "  testcase = 2000\n",
        "  for i in range(testcase):\n",
        "    if decrypt_oracle():\n",
        "      rightans+=1\n",
        "  #Percentage of correct ans\n",
        "  print((rightans/testcase)*100)\n",
        "\n",
        "\n",
        "\n"
      ],
      "execution_count": null,
      "outputs": [
        {
          "output_type": "stream",
          "text": [
            "50.1\n"
          ],
          "name": "stdout"
        }
      ]
    }
  ]
}