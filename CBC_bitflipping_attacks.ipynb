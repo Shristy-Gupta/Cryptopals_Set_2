{
  "nbformat": 4,
  "nbformat_minor": 0,
  "metadata": {
    "colab": {
      "name": "CBC bitflipping attacks.ipynb",
      "provenance": []
    },
    "kernelspec": {
      "name": "python3",
      "display_name": "Python 3"
    },
    "language_info": {
      "name": "python"
    }
  },
  "cells": [
    {
      "cell_type": "code",
      "metadata": {
        "colab": {
          "base_uri": "https://localhost:8080/"
        },
        "id": "0-RcaKywv4Za",
        "outputId": "857bcbc3-9fa2-4e16-f43c-d4fc5d9c23e6"
      },
      "source": [
        "#CBC bitflipping attacks\n",
        "import random\n",
        "from random import randint\n",
        "import os\n",
        "import string\n",
        "# The below file is given by OPEN SSL\n",
        "!pip install pycrypto\n",
        "from Crypto.Cipher import AES\n",
        "from math import ceil\n",
        "from binascii import unhexlify, b2a_base64, a2b_base64, hexlify\n",
        "import chardet\n",
        "from os.path import commonprefix"
      ],
      "execution_count": null,
      "outputs": [
        {
          "output_type": "stream",
          "text": [
            "Requirement already satisfied: pycrypto in /usr/local/lib/python3.7/dist-packages (2.6.1)\n"
          ],
          "name": "stdout"
        }
      ]
    },
    {
      "cell_type": "markdown",
      "metadata": {
        "id": "gtsGRWOb8K2x"
      },
      "source": [
        "Address this problem in 3 steps\n",
        "1) Create bitflipping function\n",
        "2) validate bitflipping string\n",
        "3) attack the bit flipped sequence"
      ]
    },
    {
      "cell_type": "code",
      "metadata": {
        "id": "lkpr9Zty_ITO"
      },
      "source": [
        "#Helper Functions\n",
        "def pkcs7(message, blocksize):\n",
        "  padlen = blocksize-len(message)%blocksize\n",
        "  if(padlen == blocksize):\n",
        "    padlen = 0\n",
        "  pkcsmessage=bytes([padlen])*padlen\n",
        "  return message+pkcsmessage\n",
        "\n",
        "def random_byte_create(lenofbytes):\n",
        "  randomnumber=[]\n",
        "  for i in range(lenofbytes):\n",
        "    randomnumber.append(random.randint(0,255))\n",
        "  return bytes(randomnumber)\n"
      ],
      "execution_count": null,
      "outputs": []
    },
    {
      "cell_type": "code",
      "metadata": {
        "id": "McfAp_v-8n1S"
      },
      "source": [
        "block_size=16\n",
        "IV = random_byte_create(block_size)\n",
        "Key_global=random_byte_create(16)"
      ],
      "execution_count": null,
      "outputs": []
    },
    {
      "cell_type": "code",
      "metadata": {
        "id": "pQ8qazvt9cXh"
      },
      "source": [
        "def cbc_enc_dec(message, encrypt=True):\n",
        "    if encrypt:\n",
        "        #Given\n",
        "        prefix = b'comment1=cooking%20MCs;userdata='\n",
        "        suffix = b';comment2=%20like%20a%20pound%20of%20bacon'\n",
        "\n",
        "        append_plain_text = (prefix + message + suffix).replace(b'=', b'\"=\"').replace(b';', b'\";\"')\n",
        "        cipher_object=AES.new(Key_global,AES.MODE_CBC,IV)\n",
        "        return cipher_object.encrypt(pkcs7(append_plain_text, block_size))\n",
        "    else:\n",
        "        cipher_object=AES.new(Key_global,AES.MODE_CBC,IV)\n",
        "        return cipher_object.decrypt(message)"
      ],
      "execution_count": null,
      "outputs": []
    },
    {
      "cell_type": "code",
      "metadata": {
        "id": "1DNYxmQY9fp9"
      },
      "source": [
        "def validate_cbc(text):\n",
        "    text_decrypted = cbc_bitflipping(text, encrypt=False)\n",
        "    if b';admin=true;' in text_decrypted:\n",
        "        return True\n",
        "    else:\n",
        "        return False"
      ],
      "execution_count": null,
      "outputs": []
    },
    {
      "cell_type": "code",
      "metadata": {
        "id": "g6kt_uX19iSZ"
      },
      "source": [
        "def cbc_bitflipping_attack():\n",
        "  # The idea is that the change in bit of cipher text it  will produce huge error in one block but will produce \n",
        "  # Change in only one bit in the next block. This is because the ouput in second block is simply xor of ciphertext of  first block\n",
        "  # and xor of dec(cipher text of next block). Also we know that the xor will cause no confusion or difusion\n",
        "    encrypted_strings = [cbc_enc_dec(b'A'*0)]\n",
        "    # Number of blocks taken up by the prefix:\n",
        "    prefix_block_size = len(commonprefix([cbc_enc_dec(b''),cbc_enc_dec(b'A')])) // block_size + 1\n",
        "    min_addition = None\n",
        "    for blocks in range(1, block_size):\n",
        "        encrypted_strings.append(cbc_enc_dec(b'A'*blocks))\n",
        "        length_common_prefix = len(commonprefix(encrypted_strings))\n",
        "        if length_common_prefix == prefix_block_size*block_size:\n",
        "            min_addition = blocks-1\n",
        "            break\n",
        "        encrypted_strings = [encrypted_strings[-1]]\n",
        "    assert min_addition is not None\n",
        "    encrypted = cbc_enc_dec(b'A'*min_addition + b'xadminxtruex')\n",
        "    print(\"Decrypted Message:\",cbc_enc_dec(encrypted,False))\n",
        "    print(\"Encypted Message:\",encrypted)\n",
        "    previous_block = [p for p in encrypted[(prefix_block_size-1)*block_size: prefix_block_size*block_size]]\n",
        "    previous_block[0] ^= ord(b'x') ^ ord(b';')\n",
        "    previous_block[6] ^= ord(b'x') ^ ord(b'=')\n",
        "    previous_block[11] ^= ord(b'x') ^ ord(b';')\n",
        "    previous_block = bytes(previous_block)\n",
        "    print(\"Previous Block Decypted:\",cbc_enc_dec(previous_block,False))\n",
        "    print(\"Previous Block Encypted:\",previous_block)\n",
        "    admin_string = encrypted[:(prefix_block_size-1)*block_size] + previous_block + encrypted[prefix_block_size*block_size:]\n",
        "    print(\"After appending Admin String 'Decypted':\",cbc_enc_dec(admin_string,False))\n",
        "    print(\"After appending Admin String:\",admin_string)\n",
        "    print(\"Does the Admin String has admin keyword?\")\n",
        "    return validate_cbc(admin_string)"
      ],
      "execution_count": null,
      "outputs": []
    },
    {
      "cell_type": "code",
      "metadata": {
        "colab": {
          "base_uri": "https://localhost:8080/"
        },
        "id": "z4CNTijSQR4b",
        "outputId": "e59c3acd-aa54-4d14-f876-c75394dbe543"
      },
      "source": [
        "if __name__== \"__main__\":\n",
        "  print(cbc_bitflipping_attack())\n"
      ],
      "execution_count": null,
      "outputs": [
        {
          "output_type": "stream",
          "text": [
            "Decrypted Message: b'comment1\"=\"cooking%20MCs\";\"userdata\"=\"AAAAAAAAAAxadminxtruex\";\"comment2\"=\"%20like%20a%20pound%20of%20bacon\\x06\\x06\\x06\\x06\\x06\\x06'\n",
            "Encypted Message: b'OI\\x97\\x1d\\xb2\\x97UU\\xeb_\"\\xad\\xb8q\\xael\\xb3\\xd5G\\x88\\xf9\\xd0>w\\xd4\\xe7\\xb2\\x11L\\x00\\xdc\\xb5f&\\xb9=!\\xe4K\\x13\\x06\\xfb\\xfb(\\x16\\x05\\xb9cdk\\xa6\\x99/\\xbfY\\'\\x96\\xac/\\\\\\xdb\\xab\\x89\\x8f\\x1d\\xf1E\\xbbm\\x89\\xe7\\x0c2\\xba\\xd6%\\x87\\xa7\\x1dN\\x07\\xedD\\x84\\xf6\\x01\\xbae?t|\\xb9 \\x98\\xca\\xde\\xb7b\\x0f\\xbe\\r[*H\\x8e\\xe5\\xd2?n\\xbb%\\xb0'\n",
            "Previous Block Decypted: b'uQ\\xca\\xfe\\xce\\x80\\xc8\\x19\\xd6\\xe9\\xf8\\xea\\xea\\x95\\xe3\\xe5'\n",
            "Previous Block Encypted: b'%&\\xb9=!\\xe4\\x0e\\x13\\x06\\xfb\\xfbk\\x16\\x05\\xb9c'\n",
            "After appending Admin String 'Decypted': b'comment1\"=\"cooking%20MCs\";\"userd\\xe5\\xc2\\x1c=\\xfd>\\x9885\\xf1r\\xe8\\x02\\x83\\xa9\\x1e;admin=true;\";\"comment2\"=\"%20like%20a%20pound%20of%20bacon\\x06\\x06\\x06\\x06\\x06\\x06'\n",
            "After appending Admin String: b'OI\\x97\\x1d\\xb2\\x97UU\\xeb_\"\\xad\\xb8q\\xael\\xb3\\xd5G\\x88\\xf9\\xd0>w\\xd4\\xe7\\xb2\\x11L\\x00\\xdc\\xb5%&\\xb9=!\\xe4\\x0e\\x13\\x06\\xfb\\xfbk\\x16\\x05\\xb9cdk\\xa6\\x99/\\xbfY\\'\\x96\\xac/\\\\\\xdb\\xab\\x89\\x8f\\x1d\\xf1E\\xbbm\\x89\\xe7\\x0c2\\xba\\xd6%\\x87\\xa7\\x1dN\\x07\\xedD\\x84\\xf6\\x01\\xbae?t|\\xb9 \\x98\\xca\\xde\\xb7b\\x0f\\xbe\\r[*H\\x8e\\xe5\\xd2?n\\xbb%\\xb0'\n",
            "Does the Admin String has admin keyword?\n",
            "True\n"
          ],
          "name": "stdout"
        }
      ]
    }
  ]
}