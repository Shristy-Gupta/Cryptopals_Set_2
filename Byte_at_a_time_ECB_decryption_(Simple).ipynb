{
  "nbformat": 4,
  "nbformat_minor": 0,
  "metadata": {
    "colab": {
      "name": "Byte-at-a-time ECB decryption (Simple).ipynb",
      "provenance": [],
      "collapsed_sections": []
    },
    "kernelspec": {
      "name": "python3",
      "display_name": "Python 3"
    },
    "language_info": {
      "name": "python"
    }
  },
  "cells": [
    {
      "cell_type": "code",
      "metadata": {
        "colab": {
          "base_uri": "https://localhost:8080/"
        },
        "id": "OMwWqgdyPVmU",
        "outputId": "704ac3e2-5b2a-42a4-d7dc-2dbb8db11982"
      },
      "source": [
        "#Byte-at-a-time ECB decryption (Simple)\n",
        "#importing classes\n",
        "import random\n",
        "from random import randint\n",
        "import os\n",
        "import string\n",
        "# The below file is given by OPEN SSL\n",
        "!pip install pycrypto\n",
        "from Crypto.Cipher import AES\n",
        "from math import ceil\n",
        "from binascii import unhexlify, b2a_base64, a2b_base64, hexlify\n",
        "import chardet"
      ],
      "execution_count": null,
      "outputs": [
        {
          "output_type": "stream",
          "text": [
            "Requirement already satisfied: pycrypto in /usr/local/lib/python3.7/dist-packages (2.6.1)\n"
          ],
          "name": "stdout"
        }
      ]
    },
    {
      "cell_type": "code",
      "metadata": {
        "id": "G9PRfhu0lM4B"
      },
      "source": [
        "def pkcs7(message, blocksize):\n",
        "  padlen = blocksize-len(message)%blocksize\n",
        "  if(padlen == blocksize):\n",
        "    padlen = 0\n",
        "  pkcsmessage=bytes([padlen])*padlen\n",
        "  return message+pkcsmessage"
      ],
      "execution_count": null,
      "outputs": []
    },
    {
      "cell_type": "code",
      "metadata": {
        "id": "FmGDTh2yrYTL"
      },
      "source": [
        "def random_byte_create(lenofbytes):\n",
        "  randomnumber=[]\n",
        "  for i in range(lenofbytes):\n",
        "    randomnumber.append(random.randint(0,255))\n",
        "  return bytes(randomnumber)\n"
      ],
      "execution_count": null,
      "outputs": []
    },
    {
      "cell_type": "code",
      "metadata": {
        "id": "iBAHYJGVrZcI"
      },
      "source": [
        "Key_global=random_byte_create(16)\n",
        "given_plain_text=bytes(\"Um9sbGluJyBpbiBteSA1LjAKV2l0aCBteSByYWctdG9wIGRvd24gc28gbXkgaGFpciBjYW4gYmxvdwpUaGUgZ2lybGllcyBvbiBzdGFuZGJ5IHdhdmluZyBqdXN0IHRvIHNheSBoaQpEaWQgeW91IHN0b3A/IE5vLCBJIGp1c3QgZHJvdmUgYnkK\",'utf-8')\n"
      ],
      "execution_count": null,
      "outputs": []
    },
    {
      "cell_type": "code",
      "metadata": {
        "id": "LaZ32OaysguD"
      },
      "source": [
        "def encypt_oracle(message):\n",
        "  #First convert the given plain text in base 64\n",
        "  base64_plaintext=a2b_base64(given_plain_text)\n",
        "  # Given your-string || unknown-string\n",
        "  new_message=message + base64_plaintext\n",
        "  #ECB Encryption\n",
        "  plaintext=pkcs7(new_message,16)\n",
        "  cipher_object=AES.new(Key_global,AES.MODE_ECB)\n",
        "  return cipher_object.encrypt(plaintext)"
      ],
      "execution_count": null,
      "outputs": []
    },
    {
      "cell_type": "code",
      "metadata": {
        "id": "NnGhn2fUJUkE"
      },
      "source": [
        "def bytes_to_str(message):\n",
        "    return \"\".join(filter(lambda x: x in string.printable, \"\".join(map(chr, message))))"
      ],
      "execution_count": null,
      "outputs": []
    },
    {
      "cell_type": "code",
      "metadata": {
        "id": "JTYhkMlI_AnP"
      },
      "source": [
        "#Detect the Encryption mechanism of the block\n",
        "def guess_aes_ecb(ciphertext,Block_size):\n",
        "  #The logic is simple, In ECB the block content will be same , becuase for same message the cipher text will be same and not randomized\n",
        "  #This formula only fails when messages are all unique\n",
        "  blocks_of_ciphertext=[]\n",
        "  number_of_blocks=len(ciphertext)//Block_size\n",
        "  for i in range(number_of_blocks):\n",
        "    blocks_of_ciphertext.append(ciphertext[i:i+Block_size])\n",
        "  unique_num_blocks=set(blocks_of_ciphertext)\n",
        "  #Returns True for ECB otherwise false\n",
        "  return len(unique_num_blocks)<len(ciphertext)"
      ],
      "execution_count": null,
      "outputs": []
    },
    {
      "cell_type": "code",
      "metadata": {
        "id": "QhNEojVr2sIi"
      },
      "source": [
        "def guess_first_byte():\n",
        "  #This logic contains 3 Section\n",
        "  # 1 )Discover the unknownblock size of the ciphertext I have taken arbitraty number of iterations, it can be infinity also\n",
        "  for x in range(200):\n",
        "  #When size==0 its the block size otherwise calculate it recursively\n",
        "    if x == 0:\n",
        "      ciphertext_blocksize=len(encypt_oracle(b'A'*x))\n",
        "      continue\n",
        "    new_ciphertext_blocksize=len(encypt_oracle(b'A'*x))-ciphertext_blocksize\n",
        "    if new_ciphertext_blocksize == 0:\n",
        "      ciphertext_blocksize=new_ciphertext_blocksize\n",
        "    else: \n",
        "      break\n",
        "  \n",
        "  # Check if its ECB or not with the unknown block size\n",
        "  if not guess_aes_ecb(encypt_oracle(b'A'*new_ciphertext_blocksize*5),new_ciphertext_blocksize):\n",
        "    return b'The Given Text is Not in ECB Mode'\n",
        "\n",
        "  # Otherwise follow rest of the steps, find the unknown block length\n",
        "  final_block_length=len(encypt_oracle(b'A'*0))//new_ciphertext_blocksize\n",
        "  first_byte_string=b''\n",
        "  unknown_string = b''\n",
        "  input_block=b'A'* new_ciphertext_blocksize\n",
        "  for block_number in range(final_block_length):\n",
        "    unknown_string_block = b''\n",
        "    # First new_ciphertext_blocksize-1 blocks becomes random string in A-->check one_byte_short line , then the last block will have the random UNKNOWN STRING\n",
        "    # Again we do the above step but now new_ciphertext_blocksize-2 blocks becomes random string--> check one_byte_short, then the last block will have the random UNKNOWN STRING\n",
        "    # This we repeat again and again \n",
        "    for n in range(new_ciphertext_blocksize-1, -1, -1):\n",
        "        input_block = input_block[1:] \n",
        "        last_byte_dict = {encypt_oracle(input_block + bytes([b]))[:new_ciphertext_blocksize]: bytes([b]) for b in range(256)}\n",
        "        one_byte_short = encypt_oracle(b'A'*n)[block_number*new_ciphertext_blocksize:(block_number+1)*new_ciphertext_blocksize]\n",
        "        if one_byte_short not in last_byte_dict:\n",
        "          break\n",
        "        last_byte = last_byte_dict[one_byte_short]\n",
        "        unknown_string_block += last_byte\n",
        "        input_block += last_byte\n",
        "    unknown_string+=unknown_string_block\n",
        "    input_block=unknown_string_block\n",
        "  return unknown_string\n",
        "\n"
      ],
      "execution_count": null,
      "outputs": []
    },
    {
      "cell_type": "code",
      "metadata": {
        "colab": {
          "base_uri": "https://localhost:8080/"
        },
        "id": "EAKPt_lLJAQ9",
        "outputId": "db82d997-4ca9-47f9-c6fe-45f3a302c880"
      },
      "source": [
        "if __name__== \"__main__\":\n",
        "  for line in bytes_to_str(guess_first_byte()).split(\"\\n\"):\n",
        "    print(line)"
      ],
      "execution_count": null,
      "outputs": [
        {
          "output_type": "stream",
          "text": [
            "Rollin' in my 5.0\n",
            "With my rag-top down so my hair can blow\n",
            "The girlies on standby waving just to say hi\n",
            "Did you stop? No, I just drove by\n",
            "\n"
          ],
          "name": "stdout"
        }
      ]
    }
  ]
}