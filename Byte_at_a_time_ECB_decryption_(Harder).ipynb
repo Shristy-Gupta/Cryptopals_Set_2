{
  "nbformat": 4,
  "nbformat_minor": 0,
  "metadata": {
    "colab": {
      "name": "Byte-at-a-time ECB decryption (Harder).ipynb",
      "provenance": [],
      "collapsed_sections": []
    },
    "kernelspec": {
      "name": "python3",
      "display_name": "Python 3"
    },
    "language_info": {
      "name": "python"
    }
  },
  "cells": [
    {
      "cell_type": "code",
      "metadata": {
        "colab": {
          "base_uri": "https://localhost:8080/"
        },
        "id": "o8ixscH4Znb6",
        "outputId": "0c17920c-24eb-4378-8c04-6f85161eda7d"
      },
      "source": [
        "#Byte-at-a-time ECB decryption (Harder)\n",
        "import random\n",
        "from random import randint\n",
        "import os\n",
        "import string\n",
        "# The below file is given by OPEN SSL\n",
        "!pip install pycrypto\n",
        "from Crypto.Cipher import AES\n",
        "from math import ceil\n",
        "from binascii import unhexlify, b2a_base64, a2b_base64, hexlify\n",
        "import chardet\n",
        "from os.path import commonprefix"
      ],
      "execution_count": null,
      "outputs": [
        {
          "output_type": "stream",
          "text": [
            "Collecting pycrypto\n",
            "\u001b[?25l  Downloading https://files.pythonhosted.org/packages/60/db/645aa9af249f059cc3a368b118de33889219e0362141e75d4eaf6f80f163/pycrypto-2.6.1.tar.gz (446kB)\n",
            "\r\u001b[K     |▊                               | 10kB 16.3MB/s eta 0:00:01\r\u001b[K     |█▌                              | 20kB 22.2MB/s eta 0:00:01\r\u001b[K     |██▏                             | 30kB 13.4MB/s eta 0:00:01\r\u001b[K     |███                             | 40kB 16.1MB/s eta 0:00:01\r\u001b[K     |███▊                            | 51kB 12.8MB/s eta 0:00:01\r\u001b[K     |████▍                           | 61kB 12.3MB/s eta 0:00:01\r\u001b[K     |█████▏                          | 71kB 9.8MB/s eta 0:00:01\r\u001b[K     |█████▉                          | 81kB 10.6MB/s eta 0:00:01\r\u001b[K     |██████▋                         | 92kB 10.3MB/s eta 0:00:01\r\u001b[K     |███████▍                        | 102kB 10.6MB/s eta 0:00:01\r\u001b[K     |████████                        | 112kB 10.6MB/s eta 0:00:01\r\u001b[K     |████████▉                       | 122kB 10.6MB/s eta 0:00:01\r\u001b[K     |█████████▌                      | 133kB 10.6MB/s eta 0:00:01\r\u001b[K     |██████████▎                     | 143kB 10.6MB/s eta 0:00:01\r\u001b[K     |███████████                     | 153kB 10.6MB/s eta 0:00:01\r\u001b[K     |███████████▊                    | 163kB 10.6MB/s eta 0:00:01\r\u001b[K     |████████████▌                   | 174kB 10.6MB/s eta 0:00:01\r\u001b[K     |█████████████▏                  | 184kB 10.6MB/s eta 0:00:01\r\u001b[K     |██████████████                  | 194kB 10.6MB/s eta 0:00:01\r\u001b[K     |██████████████▊                 | 204kB 10.6MB/s eta 0:00:01\r\u001b[K     |███████████████▍                | 215kB 10.6MB/s eta 0:00:01\r\u001b[K     |████████████████▏               | 225kB 10.6MB/s eta 0:00:01\r\u001b[K     |█████████████████               | 235kB 10.6MB/s eta 0:00:01\r\u001b[K     |█████████████████▋              | 245kB 10.6MB/s eta 0:00:01\r\u001b[K     |██████████████████▍             | 256kB 10.6MB/s eta 0:00:01\r\u001b[K     |███████████████████             | 266kB 10.6MB/s eta 0:00:01\r\u001b[K     |███████████████████▉            | 276kB 10.6MB/s eta 0:00:01\r\u001b[K     |████████████████████▋           | 286kB 10.6MB/s eta 0:00:01\r\u001b[K     |█████████████████████▎          | 296kB 10.6MB/s eta 0:00:01\r\u001b[K     |██████████████████████          | 307kB 10.6MB/s eta 0:00:01\r\u001b[K     |██████████████████████▊         | 317kB 10.6MB/s eta 0:00:01\r\u001b[K     |███████████████████████▌        | 327kB 10.6MB/s eta 0:00:01\r\u001b[K     |████████████████████████▎       | 337kB 10.6MB/s eta 0:00:01\r\u001b[K     |█████████████████████████       | 348kB 10.6MB/s eta 0:00:01\r\u001b[K     |█████████████████████████▊      | 358kB 10.6MB/s eta 0:00:01\r\u001b[K     |██████████████████████████▍     | 368kB 10.6MB/s eta 0:00:01\r\u001b[K     |███████████████████████████▏    | 378kB 10.6MB/s eta 0:00:01\r\u001b[K     |████████████████████████████    | 389kB 10.6MB/s eta 0:00:01\r\u001b[K     |████████████████████████████▋   | 399kB 10.6MB/s eta 0:00:01\r\u001b[K     |█████████████████████████████▍  | 409kB 10.6MB/s eta 0:00:01\r\u001b[K     |██████████████████████████████  | 419kB 10.6MB/s eta 0:00:01\r\u001b[K     |██████████████████████████████▉ | 430kB 10.6MB/s eta 0:00:01\r\u001b[K     |███████████████████████████████▋| 440kB 10.6MB/s eta 0:00:01\r\u001b[K     |████████████████████████████████| 450kB 10.6MB/s \n",
            "\u001b[?25hBuilding wheels for collected packages: pycrypto\n",
            "  Building wheel for pycrypto (setup.py) ... \u001b[?25l\u001b[?25hdone\n",
            "  Created wheel for pycrypto: filename=pycrypto-2.6.1-cp37-cp37m-linux_x86_64.whl size=499931 sha256=5ab650d4eb0d5bb1c2d6b88d769a7efeac40a8d052922411b5a37297c9b48752\n",
            "  Stored in directory: /root/.cache/pip/wheels/27/02/5e/77a69d0c16bb63c6ed32f5386f33a2809c94bd5414a2f6c196\n",
            "Successfully built pycrypto\n",
            "Installing collected packages: pycrypto\n",
            "Successfully installed pycrypto-2.6.1\n"
          ],
          "name": "stdout"
        }
      ]
    },
    {
      "cell_type": "markdown",
      "metadata": {
        "id": "GOrx_YgGapfX"
      },
      "source": [
        "Please Note code is as it is copyied from the Byte-at-a-time ECB decryption (Simple) CHALLANGE 12 SET 2 version with some modification as mentioned in the comment"
      ]
    },
    {
      "cell_type": "code",
      "metadata": {
        "id": "ssMeorrCZvdp"
      },
      "source": [
        "def pkcs7(message, blocksize):\n",
        "  padlen = blocksize-len(message)%blocksize\n",
        "  if(padlen == blocksize):\n",
        "    padlen = 0\n",
        "  pkcsmessage=bytes([padlen])*padlen\n",
        "  return message+pkcsmessage"
      ],
      "execution_count": null,
      "outputs": []
    },
    {
      "cell_type": "code",
      "metadata": {
        "id": "yWkUCPhTaGJg"
      },
      "source": [
        "def random_byte_create(lenofbytes):\n",
        "  randomnumber=[]\n",
        "  for i in range(lenofbytes):\n",
        "    randomnumber.append(random.randint(0,255))\n",
        "  return bytes(randomnumber)"
      ],
      "execution_count": null,
      "outputs": []
    },
    {
      "cell_type": "code",
      "metadata": {
        "id": "BrF4sjIMaZ2i"
      },
      "source": [
        "Key_global=random_byte_create(16)\n",
        "given_plain_text=bytes(\"Um9sbGluJyBpbiBteSA1LjAKV2l0aCBteSByYWctdG9wIGRvd24gc28gbXkgaGFpciBjYW4gYmxvdwpUaGUgZ2lybGllcyBvbiBzdGFuZGJ5IHdhdmluZyBqdXN0IHRvIHNheSBoaQpEaWQgeW91IHN0b3A/IE5vLCBJIGp1c3QgZHJvdmUgYnkK\",'utf-8')\n",
        "random_size=160\n",
        "random_string=random_byte_create(random.randint(1,80))\n"
      ],
      "execution_count": null,
      "outputs": []
    },
    {
      "cell_type": "code",
      "metadata": {
        "id": "5fFcp_sjactk"
      },
      "source": [
        "def encypt_oracle(message):\n",
        "  #First convert the given plain text in base 64\n",
        "  base64_plaintext=a2b_base64(given_plain_text)\n",
        "  # Given your-random string||string || unknown-string\n",
        "  new_message=random_string+message + base64_plaintext\n",
        "  #ECB Encryption\n",
        "  plaintext=pkcs7(new_message,16)\n",
        "  cipher_object=AES.new(Key_global,AES.MODE_ECB)\n",
        "  return cipher_object.encrypt(plaintext)"
      ],
      "execution_count": null,
      "outputs": []
    },
    {
      "cell_type": "code",
      "metadata": {
        "id": "f1WnRu3uafAu"
      },
      "source": [
        "def bytes_to_str(message):\n",
        "    return \"\".join(filter(lambda x: x in string.printable, \"\".join(map(chr, message))))"
      ],
      "execution_count": null,
      "outputs": []
    },
    {
      "cell_type": "code",
      "metadata": {
        "id": "U8Xlo1JufI8U"
      },
      "source": [
        "def guess_block_size():\n",
        "    length_output = len(encypt_oracle(b'A'*0))\n",
        "    for i in range(1, random_size):\n",
        "        new_length_output = len(encypt_oracle(b'A'*i))\n",
        "        block_size = new_length_output - length_output\n",
        "        if block_size != 0:\n",
        "            break\n",
        "        length_output = new_length_output\n",
        "    return length_output, block_size\n",
        "\n",
        "def guess_num_random_blocks(length_output, block_size):\n",
        "    common_prefix_length = len(commonprefix([encypt_oracle(b''), encypt_oracle(b'A')]))\n",
        "    for num_random_blocks in range(int(length_output/block_size)):\n",
        "        if common_prefix_length < block_size * num_random_blocks:\n",
        "            break\n",
        "    return num_random_blocks\n",
        "def guess_string_lengths(block_size, num_random_blocks):\n",
        "    encrypted_strings =[]\n",
        "    for i in range(block_size):\n",
        "        encrypted_strings.append(encypt_oracle(b'A'*i))\n",
        "        random_string_length = len(commonprefix(encrypted_strings))\n",
        "        unknown_string_length = len(encrypted_strings[0]) - random_string_length\n",
        "        if len(encrypted_strings) > 1 and random_string_length >= block_size * num_random_blocks and random_string_length % block_size == 0:\n",
        "            min_addition = i-1\n",
        "            break\n",
        "        encrypted_strings = [encrypted_strings[-1]]\n",
        "    return min_addition, random_string_length, unknown_string_length"
      ],
      "execution_count": null,
      "outputs": []
    },
    {
      "cell_type": "code",
      "metadata": {
        "id": "7MwsQxmSag9j"
      },
      "source": [
        "#Detect the Encryption mechanism of the block\n",
        "def guess_aes_ecb(ciphertext,Block_size):\n",
        "  #The logic is simple, In ECB the block content will be same , becuase for same message the cipher text will be same and not randomized\n",
        "  #This formula only fails when messages are all unique\n",
        "  blocks_of_ciphertext=[]\n",
        "  number_of_blocks=len(ciphertext)//Block_size\n",
        "  for i in range(number_of_blocks):\n",
        "    blocks_of_ciphertext.append(ciphertext[i:i+Block_size])\n",
        "  unique_num_blocks=set(blocks_of_ciphertext)\n",
        "  #Returns True for ECB otherwise false\n",
        "  return len(unique_num_blocks)<len(ciphertext)"
      ],
      "execution_count": null,
      "outputs": []
    },
    {
      "cell_type": "code",
      "metadata": {
        "id": "CIl_e6moajGd"
      },
      "source": [
        "def guess_first_byte():\n",
        "  length_output, block_size = guess_block_size()\n",
        "  num_random_blocks = guess_num_random_blocks(length_output, block_size)\n",
        "  min_addition, random_string_length, unknown_string_length = guess_string_lengths(block_size, num_random_blocks)\n",
        "  #This logic contains 3 Section\n",
        "  # 1 )Discover the unknownblock size of the ciphertext I have taken arbitraty number of iterations, it can be infinity also\n",
        "   # Check if its ECB or not with the unknown block size\n",
        "  if not guess_aes_ecb(encypt_oracle(b'A'*random_size*5),block_size):\n",
        "    return b'The Given Text is Not in ECB Mode'\n",
        "  # Otherwise follow rest of the steps, find the unknown block length\n",
        "  new_ciphertext_blocksize=block_size\n",
        "  final_block_length=unknown_string_length//new_ciphertext_blocksize\n",
        "  unknown_string = b''\n",
        "  input_block=b'A'* (new_ciphertext_blocksize+min_addition)\n",
        "  for block_number in range(final_block_length):\n",
        "    unknown_string_block = b''\n",
        "    # First new_ciphertext_blocksize-1 blocks becomes random string in A-->check one_byte_short line , then the last block will have the random UNKNOWN STRING\n",
        "    # Again we do the above step but now new_ciphertext_blocksize-2 blocks becomes random string--> check one_byte_short, then the last block will have the random UNKNOWN STRING\n",
        "    # This we repeat again and again \n",
        "    for n in range(new_ciphertext_blocksize + min_addition-1, min_addition-1, -1):\n",
        "        input_block = input_block[1:] \n",
        "        last_byte_dict = {encypt_oracle(input_block + bytes([b]))[random_string_length:random_string_length+new_ciphertext_blocksize]: bytes([b]) for b in range(256)}\n",
        "        one_byte_short = encypt_oracle(b'A'*n)[(block_number*new_ciphertext_blocksize)+random_string_length:(block_number*new_ciphertext_blocksize)+random_string_length+new_ciphertext_blocksize]\n",
        "        if one_byte_short not in last_byte_dict:\n",
        "          break\n",
        "        last_byte = last_byte_dict[one_byte_short]\n",
        "        unknown_string_block += last_byte\n",
        "        input_block += last_byte\n",
        "    unknown_string+=unknown_string_block\n",
        "    input_block=b'A'*min_addition+unknown_string_block\n",
        "  return unknown_string\n",
        "\n"
      ],
      "execution_count": null,
      "outputs": []
    },
    {
      "cell_type": "code",
      "metadata": {
        "colab": {
          "base_uri": "https://localhost:8080/"
        },
        "id": "j5kJWNqwamUQ",
        "outputId": "e5beddaf-f84c-487a-a25e-8c49a560eb71"
      },
      "source": [
        "if __name__== \"__main__\":\n",
        "  for line in bytes_to_str(guess_first_byte()).split(\"\\n\"):\n",
        "    print(line)"
      ],
      "execution_count": null,
      "outputs": [
        {
          "output_type": "stream",
          "text": [
            "Rollin' in my 5.0\n",
            "With my rag-top down so my hair can blow\n",
            "The girlies on standby waving just to say hi\n",
            "Did you stop? No, I just drove by\n",
            "\n"
          ],
          "name": "stdout"
        }
      ]
    }
  ]
}